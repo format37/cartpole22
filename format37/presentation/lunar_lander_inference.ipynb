{
 "cells": [
  {
   "cell_type": "code",
   "execution_count": 1,
   "id": "644ad9a4",
   "metadata": {},
   "outputs": [],
   "source": [
    "import gym\n",
    "from stable_baselines3 import PPO\n",
    "import stable_baselines3\n",
    "import time\n",
    "from gym import wrappers\n",
    "import os\n",
    "from datetime import datetime as dt\n",
    "from stable_baselines3.common.env_util import make_vec_env\n",
    "from stable_baselines3.common.evaluation import evaluate_policy"
   ]
  },
  {
   "cell_type": "code",
   "execution_count": 2,
   "id": "d5fb6a0a",
   "metadata": {},
   "outputs": [],
   "source": [
    "import numpy as np\n",
    "import matplotlib.pyplot as plt\n",
    "from IPython import display as ipythondisplay"
   ]
  },
  {
   "cell_type": "code",
   "execution_count": 3,
   "id": "9d70a9fb",
   "metadata": {},
   "outputs": [],
   "source": [
    "# Create environment\n",
    "ENV_NAME = 'LunarLander-v2'\n",
    "N_ENVS = 16\n",
    "env = gym.make(ENV_NAME)"
   ]
  },
  {
   "cell_type": "code",
   "execution_count": 4,
   "id": "7b45911d",
   "metadata": {},
   "outputs": [],
   "source": [
    "stable_baselines3.common.utils.get_device()\n",
    "model_PPO = PPO(\n",
    "    policy = 'MlpPolicy',\n",
    "    env = env,    \n",
    "    verbose=0,\n",
    "    device='cuda'\n",
    ")"
   ]
  },
  {
   "cell_type": "code",
   "execution_count": 5,
   "id": "1416a837",
   "metadata": {},
   "outputs": [],
   "source": [
    "model_PPO = model_PPO.load('../models/ppo-LunarLander-v2.zip')"
   ]
  },
  {
   "cell_type": "code",
   "execution_count": 6,
   "id": "cd4e542d",
   "metadata": {},
   "outputs": [],
   "source": [
    "path = 'sample_data/tmp/'+str(dt.now())\n",
    "os.mkdir(path)"
   ]
  },
  {
   "cell_type": "code",
   "execution_count": 7,
   "id": "a1dd9702",
   "metadata": {},
   "outputs": [
    {
     "name": "stderr",
     "output_type": "stream",
     "text": [
      "/home/alex/anaconda3/envs/deep-rl-class/lib/python3.9/site-packages/stable_baselines3/common/evaluation.py:65: UserWarning: Evaluation environment is not wrapped with a ``Monitor`` wrapper. This may result in reporting modified episode lengths and rewards, if other wrappers happen to modify these. Consider wrapping environment first with ``Monitor`` wrapper.\n",
      "  warnings.warn(\n"
     ]
    },
    {
     "name": "stdout",
     "output_type": "stream",
     "text": [
      "mean_reward=257.51 +/- 83.41282330165025\n"
     ]
    }
   ],
   "source": [
    "eval_env = gym.make(ENV_NAME)\n",
    "mean_reward, std_reward = evaluate_policy(model_PPO, eval_env, n_eval_episodes=10, deterministic=True)\n",
    "print(f\"mean_reward={mean_reward:.2f} +/- {std_reward}\")"
   ]
  },
  {
   "cell_type": "code",
   "execution_count": 8,
   "id": "9e7bac5e",
   "metadata": {},
   "outputs": [],
   "source": [
    "env = wrappers.Monitor(env, path)"
   ]
  },
  {
   "cell_type": "code",
   "execution_count": 10,
   "id": "27952bff",
   "metadata": {},
   "outputs": [
    {
     "name": "stdout",
     "output_type": "stream",
     "text": [
      "Episode: 0,\tSteps: 223,\tscore: 284.24708276183554\n"
     ]
    }
   ],
   "source": [
    "for episode in range(1):\n",
    "    observation = env.reset()\n",
    "    step = 0\n",
    "    total_reward = 0\n",
    "\n",
    "    while True:\n",
    "        step += 1\n",
    "        env.render()\n",
    "        # action = env.action_space.sample()\n",
    "        action, _states = model_PPO.predict(observation)\n",
    "        observation, reward, done, info = env.step(action)\n",
    "        total_reward += reward\n",
    "        if done:\n",
    "            print(\"Episode: {0},\\tSteps: {1},\\tscore: {2}\"\n",
    "                  .format(episode, step, total_reward)\n",
    "            )\n",
    "            break\n",
    "env.close()"
   ]
  }
 ],
 "metadata": {
  "kernelspec": {
   "display_name": "deep-rl-class",
   "language": "python",
   "name": "deep-rl-class"
  },
  "language_info": {
   "codemirror_mode": {
    "name": "ipython",
    "version": 3
   },
   "file_extension": ".py",
   "mimetype": "text/x-python",
   "name": "python",
   "nbconvert_exporter": "python",
   "pygments_lexer": "ipython3",
   "version": "3.9.12"
  }
 },
 "nbformat": 4,
 "nbformat_minor": 5
}
