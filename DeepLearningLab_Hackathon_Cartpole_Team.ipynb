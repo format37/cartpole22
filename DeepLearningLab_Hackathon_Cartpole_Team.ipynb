{
  "nbformat": 4,
  "nbformat_minor": 0,
  "metadata": {
    "colab": {
      "name": "DeepLearningLab Hackathon: Cartpole Team.ipynb",
      "provenance": [],
      "collapsed_sections": [
        "A3Zf2OgAlm0X",
        "ZNerThnrdSRk",
        "3ZX7SWMTiwEY",
        "TtQleepbjAee",
        "zfAz7brAdiJd",
        "5bbSVE2gprYN"
      ],
      "toc_visible": true,
      "include_colab_link": true
    },
    "kernelspec": {
      "name": "python3",
      "display_name": "Python 3"
    },
    "language_info": {
      "name": "python"
    }
  },
  "cells": [
    {
      "cell_type": "markdown",
      "metadata": {
        "id": "view-in-github",
        "colab_type": "text"
      },
      "source": [
        "<a href=\"https://colab.research.google.com/github/format37/cartpole22/blob/with-colab/DeepLearningLab_Hackathon_Cartpole_Team.ipynb\" target=\"_parent\"><img src=\"https://colab.research.google.com/assets/colab-badge.svg\" alt=\"Open In Colab\"/></a>"
      ]
    },
    {
      "cell_type": "markdown",
      "source": [
        "# Hackathon: Basic RL\n",
        "\n"
      ],
      "metadata": {
        "id": "78Hi7B56dPCJ"
      }
    },
    {
      "cell_type": "markdown",
      "source": [
        "## 3rd party libaries and imports"
      ],
      "metadata": {
        "id": "EhqXG9aGeaMG"
      }
    },
    {
      "cell_type": "markdown",
      "source": [
        "### Youtube"
      ],
      "metadata": {
        "id": "cpHBpklQllQM"
      }
    },
    {
      "cell_type": "code",
      "source": [
        "from IPython.display import YouTubeVideo"
      ],
      "metadata": {
        "id": "lh8vcAmUlDyI"
      },
      "execution_count": null,
      "outputs": []
    },
    {
      "cell_type": "markdown",
      "source": [
        "### Visualisation Libraries"
      ],
      "metadata": {
        "id": "A3Zf2OgAlm0X"
      }
    },
    {
      "cell_type": "code",
      "execution_count": null,
      "metadata": {
        "colab": {
          "base_uri": "https://localhost:8080/"
        },
        "id": "NnWkxoGEcEaK",
        "outputId": "21564e5d-f9de-408d-8843-4966adfb15b4"
      },
      "outputs": [
        {
          "output_type": "stream",
          "name": "stdout",
          "text": [
            "Looking in indexes: https://pypi.org/simple, https://us-python.pkg.dev/colab-wheels/public/simple/\n",
            "Requirement already satisfied: setuptools in /usr/local/lib/python3.7/dist-packages (63.2.0)\n",
            "Looking in indexes: https://pypi.org/simple, https://us-python.pkg.dev/colab-wheels/public/simple/\n",
            "Requirement already satisfied: box2d-py in /usr/local/lib/python3.7/dist-packages (2.3.8)\n"
          ]
        }
      ],
      "source": [
        "!pip install gym pyvirtualdisplay > /dev/null 2>&1\n",
        "!apt-get install -y xvfb python-opengl ffmpeg > /dev/null 2>&1\n",
        "\n",
        "!apt-get update > /dev/null 2>&1\n",
        "!apt-get install cmake > /dev/null 2>&1\n",
        "!pip install --upgrade setuptools 2>&1\n",
        "!pip install ez_setup > /dev/null 2>&1\n",
        "!pip install gym[atari] > /dev/null 2>&1\n",
        "!pip install box2d-py"
      ]
    },
    {
      "cell_type": "code",
      "source": [
        "!apt-get install -y xvfb x11-utils\n",
        "!pip install gym[box2d]==0.17.* pyvirtualdisplay==0.2.* PyOpenGL==3.1.* PyOpenGL-accelerate==3.1.*"
      ],
      "metadata": {
        "colab": {
          "base_uri": "https://localhost:8080/"
        },
        "id": "nJGwp6xtouFV",
        "outputId": "a9d3af20-f164-46e8-f23f-5e473b461551"
      },
      "execution_count": null,
      "outputs": [
        {
          "output_type": "stream",
          "name": "stdout",
          "text": [
            "Reading package lists... Done\n",
            "Building dependency tree       \n",
            "Reading state information... Done\n",
            "x11-utils is already the newest version (7.7+3build1).\n",
            "xvfb is already the newest version (2:1.19.6-1ubuntu4.11).\n",
            "The following package was automatically installed and is no longer required:\n",
            "  libnvidia-common-460\n",
            "Use 'apt autoremove' to remove it.\n",
            "0 upgraded, 0 newly installed, 0 to remove and 71 not upgraded.\n",
            "Looking in indexes: https://pypi.org/simple, https://us-python.pkg.dev/colab-wheels/public/simple/\n",
            "Requirement already satisfied: gym[box2d]==0.17.* in /usr/local/lib/python3.7/dist-packages (0.17.3)\n",
            "Requirement already satisfied: pyvirtualdisplay==0.2.* in /usr/local/lib/python3.7/dist-packages (0.2.5)\n",
            "Requirement already satisfied: PyOpenGL==3.1.* in /usr/local/lib/python3.7/dist-packages (3.1.6)\n",
            "Requirement already satisfied: PyOpenGL-accelerate==3.1.* in /usr/local/lib/python3.7/dist-packages (3.1.5)\n",
            "Requirement already satisfied: EasyProcess in /usr/local/lib/python3.7/dist-packages (from pyvirtualdisplay==0.2.*) (1.1)\n",
            "Requirement already satisfied: cloudpickle<1.7.0,>=1.2.0 in /usr/local/lib/python3.7/dist-packages (from gym[box2d]==0.17.*) (1.3.0)\n",
            "Requirement already satisfied: numpy>=1.10.4 in /usr/local/lib/python3.7/dist-packages (from gym[box2d]==0.17.*) (1.21.6)\n",
            "Requirement already satisfied: scipy in /usr/local/lib/python3.7/dist-packages (from gym[box2d]==0.17.*) (1.7.3)\n",
            "Requirement already satisfied: pyglet<=1.5.0,>=1.4.0 in /usr/local/lib/python3.7/dist-packages (from gym[box2d]==0.17.*) (1.5.0)\n",
            "Requirement already satisfied: box2d-py~=2.3.5 in /usr/local/lib/python3.7/dist-packages (from gym[box2d]==0.17.*) (2.3.8)\n",
            "Requirement already satisfied: future in /usr/local/lib/python3.7/dist-packages (from pyglet<=1.5.0,>=1.4.0->gym[box2d]==0.17.*) (0.16.0)\n"
          ]
        }
      ]
    },
    {
      "cell_type": "code",
      "source": [
        "from pyvirtualdisplay import Display\n",
        "display = Display(visible=0, size=(1400, 900))\n",
        "display.start()"
      ],
      "metadata": {
        "colab": {
          "base_uri": "https://localhost:8080/"
        },
        "id": "PFCXwYqqlq_E",
        "outputId": "b931dc8b-9102-418d-a6bc-0936422b3319"
      },
      "execution_count": null,
      "outputs": [
        {
          "output_type": "execute_result",
          "data": {
            "text/plain": [
              "<Display cmd_param=['Xvfb', '-br', '-nolisten', 'tcp', '-screen', '0', '1400x900x24', ':1005'] cmd=['Xvfb', '-br', '-nolisten', 'tcp', '-screen', '0', '1400x900x24', ':1005'] oserror=None return_code=None stdout=\"None\" stderr=\"None\" timeout_happened=False>"
            ]
          },
          "metadata": {},
          "execution_count": 12
        }
      ]
    },
    {
      "cell_type": "markdown",
      "source": [
        "### Gym/Numpy"
      ],
      "metadata": {
        "id": "8DOVEzAWlrX0"
      }
    },
    {
      "cell_type": "code",
      "source": [
        "import gym\n",
        "from gym import logger as gymlogger\n",
        "from gym.wrappers import Monitor\n",
        "gymlogger.set_level(40) #error only\n",
        "import tensorflow as tf\n",
        "import numpy as np\n",
        "import random\n",
        "import matplotlib\n",
        "import matplotlib.pyplot as plt\n",
        "%matplotlib inline\n",
        "import math\n",
        "import glob\n",
        "import io\n",
        "import base64\n",
        "from IPython.display import HTML\n",
        "\n",
        "from IPython import display as ipythondisplay"
      ],
      "metadata": {
        "id": "RKY68h7yiPQt"
      },
      "execution_count": null,
      "outputs": []
    },
    {
      "cell_type": "markdown",
      "source": [
        "### Video Renderer Helpers"
      ],
      "metadata": {
        "id": "j4WB9rxNlzZQ"
      }
    },
    {
      "cell_type": "code",
      "source": [
        "def show_video():\n",
        "  mp4list = glob.glob('video/*.mp4')\n",
        "  if len(mp4list) > 0:\n",
        "    mp4 = mp4list[0]\n",
        "    video = io.open(mp4, 'r+b').read()\n",
        "    encoded = base64.b64encode(video)\n",
        "    ipythondisplay.display(HTML(data='''<video alt=\"test\" autoplay \n",
        "                loop controls style=\"height: 400px;\">\n",
        "                <source src=\"data:video/mp4;base64,{0}\" type=\"video/mp4\" />\n",
        "             </video>'''.format(encoded.decode('ascii'))))\n",
        "  else: \n",
        "    print(\"Could not find video\")\n",
        "def wrap_env(env):\n",
        "  env = Monitor(env, './video', force=True)\n",
        "  return env"
      ],
      "metadata": {
        "id": "tjvrmMWoeqTY"
      },
      "execution_count": null,
      "outputs": []
    },
    {
      "cell_type": "code",
      "source": [
        "import tensorflow as tf"
      ],
      "metadata": {
        "id": "jcabskxsiEvA"
      },
      "execution_count": null,
      "outputs": []
    },
    {
      "cell_type": "markdown",
      "source": [
        "### Load Models"
      ],
      "metadata": {
        "id": "Pi9RBebUtekx"
      }
    },
    {
      "cell_type": "code",
      "source": [
        "!git clone git@github.com:format37/cartpole22.git"
      ],
      "metadata": {
        "colab": {
          "base_uri": "https://localhost:8080/"
        },
        "id": "bJvfJvGys3Er",
        "outputId": "dcbd48f3-2070-4471-cc2f-8f81bc560dc5"
      },
      "execution_count": 25,
      "outputs": [
        {
          "output_type": "stream",
          "name": "stdout",
          "text": [
            "Cloning into 'cartpole22'...\n",
            "ssh_askpass: exec(/usr/bin/ssh-askpass): No such file or directory\n",
            "Host key verification failed.\n",
            "fatal: Could not read from remote repository.\n",
            "\n",
            "Please make sure you have the correct access rights\n",
            "and the repository exists.\n"
          ]
        }
      ]
    },
    {
      "cell_type": "code",
      "source": [
        "from google.colab import drive\n",
        "drive.mount('/content/drive')"
      ],
      "metadata": {
        "id": "EbGypk38tT5s"
      },
      "execution_count": null,
      "outputs": []
    },
    {
      "cell_type": "markdown",
      "source": [
        "## Introduction"
      ],
      "metadata": {
        "id": "5EYiIbd3qSVz"
      }
    },
    {
      "cell_type": "markdown",
      "source": [
        "### Deep Q-Network (DQN) Algorithm\n",
        "Deep Q-network has played an important role in deep reinforcement learning. The article, Playing atari with\n",
        "deep reinforcement learning, proposed the breakthrough algorithm applied the deep neural network for\n",
        "Q-learning along with the convolutional neural network as a feature extractor from input pixels allowing\n",
        "the deep neural network able to play 2600 atari games without teaching the rules or changing the network\n",
        "architecture."
      ],
      "metadata": {
        "id": "7os3l29XrbaD"
      }
    },
    {
      "cell_type": "markdown",
      "source": [
        "**Deep Q Network** (DQN): \n",
        "\n",
        "*   Model Free : \n",
        "*   Off policy : each update can use data collected at any point during training, regardless of how the agent was choosing to explore the environment when the data was obtained.  \n",
        "\n",
        "Q-learning method aims to learn an aprroximation of $Q_{ϴ}(s,a)$ for the optimal action-value function $Q_{ϴ}^*(s,a)$.\n"
      ],
      "metadata": {
        "id": "ETvySANSsfMK"
      }
    },
    {
      "cell_type": "markdown",
      "source": [
        "### Advantage Actor-Critic (A2C) Algorithm\n",
        "\n",
        "The Advantage Actor-Critic algorithm, often known as A2C, is an algorithm that combines the methods\n",
        "from policy network in REINFORCE algorithm as the actor network and the V-network together as the\n",
        "critic network. Because the policy networks or actor networks in A2C, are often too variance to produce the policy\n",
        "with the policy gradient, in Equation 4.5, the V-network is introduced to solve such problems by providing\n",
        "the dvantage Function to optimise the policy networks as the critic network."
      ],
      "metadata": {
        "id": "0Va49cO1uCiB"
      }
    },
    {
      "cell_type": "markdown",
      "source": [
        "## Environment 1: Cartpole"
      ],
      "metadata": {
        "id": "ZNerThnrdSRk"
      }
    },
    {
      "cell_type": "markdown",
      "source": [
        "### Algorithm 1: DQN"
      ],
      "metadata": {
        "id": "3ZX7SWMTiwEY"
      }
    },
    {
      "cell_type": "code",
      "source": [
        "GAMMA = 0.95\n",
        "LEARNING_RATE = 0.001\n",
        "\n",
        "MEMORY_SIZE = 1000000\n",
        "BATCH_SIZE = 20\n",
        "\n",
        "EXPLORATION_MAX = 1.0\n",
        "EXPLORATION_MIN = 0.01\n",
        "EXPLORATION_DECAY = 0.995"
      ],
      "metadata": {
        "id": "oZ4AIj6tjYI0"
      },
      "execution_count": null,
      "outputs": []
    },
    {
      "cell_type": "code",
      "source": [
        "class DQNAgent:\n",
        "    def __init__(self, observation_space, action_space):\n",
        "        self.exploration_rate = EXPLORATION_MAX\n",
        "\n",
        "        self.action_space = action_space\n",
        "        self.memory = deque(maxlen=MEMORY_SIZE)\n",
        "\n",
        "        self.model = Sequential()\n",
        "        self.model.add(Dense(24, input_shape=(observation_space,), activation=\"relu\"))\n",
        "        self.model.add(Dense(24, activation=\"relu\"))\n",
        "        self.model.add(Dense(self.action_space, activation=\"linear\"))\n",
        "        self.model.compile(loss=\"mse\", optimizer=Adam(lr=LEARNING_RATE))\n",
        "\n",
        "    def remember(self, state, action, reward, next_state, done):\n",
        "        self.memory.append((state, action, reward, next_state, done))\n",
        "\n",
        "    def act(self, state):\n",
        "        if np.random.rand() < self.exploration_rate:\n",
        "            return random.randrange(self.action_space)\n",
        "        q_values = self.model.predict(state)\n",
        "        return np.argmax(q_values[0])\n",
        "\n",
        "    def experience_replay(self):\n",
        "        if len(self.memory) < BATCH_SIZE:\n",
        "            return\n",
        "        batch = random.sample(self.memory, BATCH_SIZE)\n",
        "        for state, action, reward, state_next, terminal in batch:\n",
        "            q_update = reward\n",
        "            if not terminal:\n",
        "                q_update = (reward + GAMMA * np.amax(self.model.predict(state_next)[0]))\n",
        "            q_values = self.model.predict(state)\n",
        "            q_values[0][action] = q_update\n",
        "            self.model.fit(state, q_values, verbose=0)\n",
        "        self.exploration_rate *= EXPLORATION_DECAY\n",
        "        self.exploration_rate = max(EXPLORATION_MIN, self.exploration_rate)"
      ],
      "metadata": {
        "id": "jIHC2297i__D"
      },
      "execution_count": null,
      "outputs": []
    },
    {
      "cell_type": "code",
      "source": [
        ""
      ],
      "metadata": {
        "id": "-sdc1C_2sDHH"
      },
      "execution_count": null,
      "outputs": []
    },
    {
      "cell_type": "markdown",
      "source": [
        "### Algorithm 2:"
      ],
      "metadata": {
        "id": "eBqZQFIjsD74"
      }
    },
    {
      "cell_type": "markdown",
      "source": [
        "### Run Cartpole"
      ],
      "metadata": {
        "id": "TtQleepbjAee"
      }
    },
    {
      "cell_type": "code",
      "source": [
        "env = wrap_env(gym.make(\"CartPole-v1\"))"
      ],
      "metadata": {
        "id": "zcHbxX5AoVyY"
      },
      "execution_count": null,
      "outputs": []
    },
    {
      "cell_type": "code",
      "source": [
        "print(env.action_space)\n",
        "print(env.reset())"
      ],
      "metadata": {
        "colab": {
          "base_uri": "https://localhost:8080/"
        },
        "id": "n51MW7cpoX7I",
        "outputId": "dfbb4220-11b3-4795-9c72-5ca5e6ff3ec5"
      },
      "execution_count": null,
      "outputs": [
        {
          "output_type": "stream",
          "name": "stdout",
          "text": [
            "Discrete(2)\n",
            "[ 0.04858072  0.0159292  -0.00900628  0.02020027]\n"
          ]
        }
      ]
    },
    {
      "cell_type": "code",
      "source": [
        "observation = env.reset()\n",
        "while True:\n",
        "  \n",
        "    env.render()\n",
        "    \n",
        "    #your agent goes here\n",
        "    action = env.action_space.sample() \n",
        "         \n",
        "    observation, reward, done, info = env.step(action) \n",
        "   \n",
        "    if done:\n",
        "      break;\n",
        "env.close()\n",
        "show_video()"
      ],
      "metadata": {
        "colab": {
          "base_uri": "https://localhost:8080/",
          "height": 421
        },
        "id": "0q59JB2gc2q3",
        "outputId": "dd34c31b-ce6d-457c-f776-7fabeb930078"
      },
      "execution_count": null,
      "outputs": [
        {
          "output_type": "display_data",
          "data": {
            "text/plain": [
              "<IPython.core.display.HTML object>"
            ],
            "text/html": [
              "<video alt=\"test\" autoplay \n",
              "                loop controls style=\"height: 400px;\">\n",
              "                <source src=\"data:video/mp4;base64,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\" type=\"video/mp4\" />\n",
              "             </video>"
            ]
          },
          "metadata": {}
        }
      ]
    },
    {
      "cell_type": "markdown",
      "source": [
        "---"
      ],
      "metadata": {
        "id": "Chg6xntVji-g"
      }
    },
    {
      "cell_type": "markdown",
      "source": [
        "## Environment 2: Luna Landing"
      ],
      "metadata": {
        "id": "zfAz7brAdiJd"
      }
    },
    {
      "cell_type": "markdown",
      "source": [
        "### Run Luna Lander"
      ],
      "metadata": {
        "id": "5bbSVE2gprYN"
      }
    },
    {
      "cell_type": "code",
      "source": [
        "env = wrap_env(gym.make(\"LunarLander-v2\"))\n",
        "observation = env.reset()\n",
        "while True:\n",
        "  \n",
        "    env.render()\n",
        "    #your agent goes here\n",
        "    action = env.action_space.sample() \n",
        "         \n",
        "    observation, reward, done, info = env.step(action) \n",
        "   \n",
        "    if done: \n",
        "      break;\n",
        "env.close()\n",
        "show_video()"
      ],
      "metadata": {
        "colab": {
          "base_uri": "https://localhost:8080/",
          "height": 236
        },
        "id": "xb6ugmEweOXO",
        "outputId": "7778d3fc-519b-4326-b983-fb92e38c264b"
      },
      "execution_count": null,
      "outputs": [
        {
          "output_type": "error",
          "ename": "NameError",
          "evalue": "ignored",
          "traceback": [
            "\u001b[0;31m---------------------------------------------------------------------------\u001b[0m",
            "\u001b[0;31mNameError\u001b[0m                                 Traceback (most recent call last)",
            "\u001b[0;32m<ipython-input-16-21febe41a0cf>\u001b[0m in \u001b[0;36m<module>\u001b[0;34m()\u001b[0m\n\u001b[0;32m----> 1\u001b[0;31m \u001b[0menv\u001b[0m \u001b[0;34m=\u001b[0m \u001b[0mwrap_env\u001b[0m\u001b[0;34m(\u001b[0m\u001b[0mgym\u001b[0m\u001b[0;34m.\u001b[0m\u001b[0mmake\u001b[0m\u001b[0;34m(\u001b[0m\u001b[0;34m\"LunarLander-v2\"\u001b[0m\u001b[0;34m)\u001b[0m\u001b[0;34m)\u001b[0m\u001b[0;34m\u001b[0m\u001b[0;34m\u001b[0m\u001b[0m\n\u001b[0m\u001b[1;32m      2\u001b[0m \u001b[0mobservation\u001b[0m \u001b[0;34m=\u001b[0m \u001b[0menv\u001b[0m\u001b[0;34m.\u001b[0m\u001b[0mreset\u001b[0m\u001b[0;34m(\u001b[0m\u001b[0;34m)\u001b[0m\u001b[0;34m\u001b[0m\u001b[0;34m\u001b[0m\u001b[0m\n\u001b[1;32m      3\u001b[0m \u001b[0;32mwhile\u001b[0m \u001b[0;32mTrue\u001b[0m\u001b[0;34m:\u001b[0m\u001b[0;34m\u001b[0m\u001b[0;34m\u001b[0m\u001b[0m\n\u001b[1;32m      4\u001b[0m \u001b[0;34m\u001b[0m\u001b[0m\n\u001b[1;32m      5\u001b[0m     \u001b[0menv\u001b[0m\u001b[0;34m.\u001b[0m\u001b[0mrender\u001b[0m\u001b[0;34m(\u001b[0m\u001b[0;34m)\u001b[0m\u001b[0;34m\u001b[0m\u001b[0;34m\u001b[0m\u001b[0m\n",
            "\u001b[0;31mNameError\u001b[0m: name 'wrap_env' is not defined"
          ]
        }
      ]
    },
    {
      "cell_type": "markdown",
      "source": [
        "## Environment 3: Bipedal Walker"
      ],
      "metadata": {
        "id": "e1SDOjw2eO8V"
      }
    },
    {
      "cell_type": "code",
      "source": [
        "YouTubeVideo('Aq3s5mhz1kw')"
      ],
      "metadata": {
        "id": "vQrRzHrblHBM"
      },
      "execution_count": null,
      "outputs": []
    },
    {
      "cell_type": "markdown",
      "source": [
        "### Run Bipedal Walker"
      ],
      "metadata": {
        "id": "8S2BTAv_p36p"
      }
    },
    {
      "cell_type": "code",
      "source": [
        "env = wrap_env(gym.make(\"BipedalWalker-v3\"))\n",
        "observation = env.reset()\n",
        "while True:\n",
        "  \n",
        "    env.render()\n",
        "    #your agent goes here\n",
        "    action = env.action_space.sample() \n",
        "         \n",
        "    observation, reward, done, info = env.step(action) \n",
        "   \n",
        "    if done: \n",
        "      break;\n",
        "env.close()\n",
        "show_video()"
      ],
      "metadata": {
        "colab": {
          "base_uri": "https://localhost:8080/",
          "height": 421
        },
        "id": "mE4DG69jp3d1",
        "outputId": "4440d79c-291d-43f5-813d-dff2e3f46b3e"
      },
      "execution_count": null,
      "outputs": [
        {
          "output_type": "display_data",
          "data": {
            "text/plain": [
              "<IPython.core.display.HTML object>"
            ],
            "text/html": [
              "<video alt=\"test\" autoplay \n",
              "                loop controls style=\"height: 400px;\">\n",
              "                <source src=\"data:video/mp4;base64,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\" type=\"video/mp4\" />\n",
              "             </video>"
            ]
          },
          "metadata": {}
        }
      ]
    },
    {
      "cell_type": "code",
      "source": [
        ""
      ],
      "metadata": {
        "id": "IEw1JGR2qCTP"
      },
      "execution_count": null,
      "outputs": []
    }
  ]
}